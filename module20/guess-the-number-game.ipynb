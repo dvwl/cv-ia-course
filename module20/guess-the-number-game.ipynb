{
 "cells": [
  {
   "attachments": {},
   "cell_type": "markdown",
   "metadata": {},
   "source": [
    "# Welcome to Guess a Number game\n",
    "\n",
    "To generate random numbers, we'll need to make use of the random built-in library."
   ]
  },
  {
   "cell_type": "code",
   "execution_count": 3,
   "metadata": {},
   "outputs": [],
   "source": [
    "import random"
   ]
  },
  {
   "attachments": {},
   "cell_type": "markdown",
   "metadata": {},
   "source": [
    "We define the main functionality of the game."
   ]
  },
  {
   "cell_type": "code",
   "execution_count": 8,
   "metadata": {},
   "outputs": [],
   "source": [
    "def guess_the_number():\n",
    "    number = random.randint(1, 100)  # Generate a random number between 1 and 100\n",
    "    attempts = 0\n",
    "\n",
    "    print(\"Welcome to Guess the Number!\")\n",
    "    print(\"I'm thinking of a number between 1 and 100.\")\n",
    "\n",
    "    while True:\n",
    "        try:\n",
    "            guess = int(input(\"Take a guess: \"))\n",
    "            attempts += 1\n",
    "\n",
    "            if guess < number:\n",
    "                print(f\"Too low! Try again. Your input: {guess}\")\n",
    "            elif guess > number:\n",
    "                print(f\"Too high! Try again. Your input: {guess}\")\n",
    "            else:\n",
    "                print(f\"Congratulations! You guessed the number in {attempts} attempts.\")\n",
    "                break\n",
    "\n",
    "            if attempts >= 7:\n",
    "                print(f\"Oops! You ran out of attempts. The number was {number}.\")\n",
    "                break\n",
    "\n",
    "        except ValueError:\n",
    "            print(\"Invalid input! Please enter a valid number.\")"
   ]
  },
  {
   "attachments": {},
   "cell_type": "markdown",
   "metadata": {},
   "source": [
    "We play the game by calling `guess_the_number()`"
   ]
  },
  {
   "cell_type": "code",
   "execution_count": 9,
   "metadata": {},
   "outputs": [
    {
     "name": "stdout",
     "output_type": "stream",
     "text": [
      "Welcome to Guess the Number!\n",
      "I'm thinking of a number between 1 and 100.\n",
      "Invalid input! Please enter a valid number.\n",
      "Invalid input! Please enter a valid number.\n",
      "Too low! Try again. Your input: 55\n",
      "Too high! Try again. Your input: 80\n",
      "Too high! Try again. Your input: 75\n",
      "Too high! Try again. Your input: 65\n",
      "Congratulations! You guessed the number in 5 attempts.\n"
     ]
    }
   ],
   "source": [
    "guess_the_number()"
   ]
  }
 ],
 "metadata": {
  "kernelspec": {
   "display_name": "Python 3",
   "language": "python",
   "name": "python3"
  },
  "language_info": {
   "codemirror_mode": {
    "name": "ipython",
    "version": 3
   },
   "file_extension": ".py",
   "mimetype": "text/x-python",
   "name": "python",
   "nbconvert_exporter": "python",
   "pygments_lexer": "ipython3",
   "version": "3.11.3"
  },
  "orig_nbformat": 4
 },
 "nbformat": 4,
 "nbformat_minor": 2
}
