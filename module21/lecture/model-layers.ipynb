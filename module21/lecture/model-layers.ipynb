{
  "cells": [
    {
      "attachments": {},
      "cell_type": "markdown",
      "metadata": {},
      "source": [
        "# What is a neural network\n",
        "\n",
        "Neural network is a collection of neurons that are connected by layers. Each neuron is a small\n",
        "computing unit that performs simple calculations to collectively solve a problem. They are \n",
        "organized in layers. There are 3 types of layers: input layer, hidden layer, and \n",
        "output layer.  Each layer contains a number of neurons, except for the input layer. Neural networks mimic the way a human brain processes information.\n",
        "\n",
        "<img alt=\"Diagram showing different types of layers in a neural network\" src=\"../image/4-model-1.png\" />\n",
        "\n",
        "Image taken from [CS224d Stanford Course](https://cs224d.stanford.edu/index.html)"
      ]
    },
    {
      "attachments": {},
      "cell_type": "markdown",
      "metadata": {},
      "source": [
        "## Components of a neural network\n",
        "\n",
        "- **Activation function** determines whether a neuron should be activated or not. The computations that happen in a neural network include applying an activation function. If a neuron activates, then it means the input is important.  The are different kinds of activation functions. The choice of which activation function to use depends on what you want the output to be. Another important role of an activation function is to add non-linearity to the model.\n",
        "    - _Binary_ used to set an output node to 1 if function result is positive and 0 if the function result is negative. $f(x)= {\\small \\begin{cases} 0, & \\text{if } x < 0\\\\ 1, & \\text{if } x\\geq 0\\\\ \\end{cases}}$\n",
        "    - _Sigmod_ is used to predict the probability of an output node being between 0 and 1.  $f(x) = {\\large \\frac{1}{1+e^{-x}}} $\n",
        "    - _Tanh_ is used to predict if an output node is between 1 and -1.  Used in classification use cases.  $f(x) = {\\large \\frac{e^{x} - e^{-x}}{e^{x} + e^{-x}}} $\n",
        "    - _ReLU_ used to set the output node to 0 if fuction result is negative and keeps the result value if the result is a positive value.  $f(x)= {\\small \\begin{cases} 0, & \\text{if } x < 0\\\\ x, & \\text{if } x\\geq 0\\\\ \\end{cases}}$\n",
        "- **Weights** influence how well the output of our network will come close to the expected output value. As an input enters the neuron, it gets multiplied by a weight value and the resulting output is either observed, or passed to the next layer in the neural network. Weights for all neurons in a layer are organized into one tensor\n",
        "- **Bias** makes up the difference between the activation function's output and its intended output. A low bias suggest that the network is making more assumptions about the form of the output, whereas a high bias value makes less assumptions about the form of the output. \n",
        "\n",
        "<img alt=\"Diagram showing neural computation\" src=\"../image/4-model-2.png\" />\n",
        "\n",
        "Image taken from [CS224d Stanford Course](https://cs224d.stanford.edu/index.html)\n",
        "\n",
        "We can say that an output $y$ of a neural network layer with weights $W$ and bias $b$ is computed as summation of the inputs multiply by the weights plus the bias $x = \\sum{(weights * inputs) + bias} $, where $f(x)$ is the activation function."
      ]
    },
    {
      "attachments": {},
      "cell_type": "markdown",
      "metadata": {},
      "source": [
        "# Build a neural network\n",
        "\n",
        "Neural networks are comprised of layers/modules that perform operations on data. \n",
        "The `torch.nn` namespace provides all the building blocks you need to \n",
        "build your own neural network. Every module in PyTorch subclasses the `nn.Module`. \n",
        "A neural network is a module itself that consists of other modules (layers). This nested structure allows for\n",
        "building and managing complex architectures easily.\n",
        "\n",
        "In the following sections, we'll build a neural network to classify images in the FashionMNIST dataset."
      ]
    },
    {
      "cell_type": "code",
      "execution_count": 1,
      "metadata": {},
      "outputs": [],
      "source": [
        "%matplotlib inline\n",
        "import os\n",
        "import torch\n",
        "from torch import nn\n",
        "from torch.utils.data import DataLoader\n",
        "from torchvision import datasets, transforms"
      ]
    },
    {
      "attachments": {},
      "cell_type": "markdown",
      "metadata": {},
      "source": [
        "## Get a hardware device for training\n",
        "\n",
        "We want to be able to train our model on a hardware accelerator like the GPU, if it is available. Let's check to see if \n",
        "`torch.cuda` is available, else we continue to use the CPU."
      ]
    },
    {
      "cell_type": "code",
      "execution_count": 2,
      "metadata": {},
      "outputs": [
        {
          "name": "stdout",
          "output_type": "stream",
          "text": [
            "Using cpu device\n"
          ]
        }
      ],
      "source": [
        "device = 'cuda' if torch.cuda.is_available() else 'cpu'\n",
        "print('Using {} device'.format(device))"
      ]
    },
    {
      "attachments": {},
      "cell_type": "markdown",
      "metadata": {},
      "source": [
        "## Define the class\n",
        "\n",
        "We define our neural network by subclassing `nn.Module`, and \n",
        "initialize the neural network layers in `__init__`. Every `nn.Module` subclass implements\n",
        "the operations on input data in the `forward` method.\n",
        "\n",
        "Our neural network are composed of the following:\n",
        "- The input layer with 28x28 or 784 features/pixels.\n",
        "- The first linear module takes the input 784 features and transforms it to a hidden layer with 512 features\n",
        "- The ReLU activation function will be applied in the transformation\n",
        "- The second linear module take 512 features as input from the first hidden layer and transforms it to the next hidden layer with 512 features\n",
        "- The ReLU activation function will be applied in the transformation\n",
        "- The third linear module take 512 features as input from the second hidden layer and transforms it to the output layer with 10, which is the number of classes\n",
        "- The ReLU activation function will be applied in the transformation"
      ]
    },
    {
      "cell_type": "code",
      "execution_count": 3,
      "metadata": {},
      "outputs": [],
      "source": [
        "class NeuralNetwork(nn.Module):\n",
        "    def __init__(self):\n",
        "        super(NeuralNetwork, self).__init__()\n",
        "        self.flatten = nn.Flatten()\n",
        "        self.linear_relu_stack = nn.Sequential(\n",
        "            nn.Linear(28*28, 512),\n",
        "            nn.ReLU(),\n",
        "            nn.Linear(512, 512),\n",
        "            nn.ReLU(),\n",
        "            nn.Linear(512, 10),\n",
        "            nn.ReLU()\n",
        "        )\n",
        "\n",
        "    def forward(self, x):\n",
        "        x = self.flatten(x)\n",
        "        logits = self.linear_relu_stack(x)\n",
        "        return logits"
      ]
    },
    {
      "attachments": {},
      "cell_type": "markdown",
      "metadata": {},
      "source": [
        "We create an instance of `NeuralNetwork`, and move it to the `device`, and print \n",
        "it's structure.\n",
        "\n"
      ]
    },
    {
      "cell_type": "code",
      "execution_count": 4,
      "metadata": {},
      "outputs": [
        {
          "name": "stdout",
          "output_type": "stream",
          "text": [
            "NeuralNetwork(\n",
            "  (flatten): Flatten(start_dim=1, end_dim=-1)\n",
            "  (linear_relu_stack): Sequential(\n",
            "    (0): Linear(in_features=784, out_features=512, bias=True)\n",
            "    (1): ReLU()\n",
            "    (2): Linear(in_features=512, out_features=512, bias=True)\n",
            "    (3): ReLU()\n",
            "    (4): Linear(in_features=512, out_features=10, bias=True)\n",
            "    (5): ReLU()\n",
            "  )\n",
            ")\n"
          ]
        }
      ],
      "source": [
        "model = NeuralNetwork().to(device)\n",
        "print(model)"
      ]
    },
    {
      "attachments": {},
      "cell_type": "markdown",
      "metadata": {},
      "source": [
        "To use the model, we pass it the input data. This executes the model's `forward`, along with some background operations. However, do not call `model.forward()` directly! Calling the model on the input returns a 10-dimensional tensor with raw predicted values for each class.\n",
        "\n",
        "We get the prediction densities by passing it through an instance of the `nn.Softmax`."
      ]
    },
    {
      "cell_type": "code",
      "execution_count": 5,
      "metadata": {},
      "outputs": [
        {
          "name": "stdout",
          "output_type": "stream",
          "text": [
            "Predicted class: tensor([4])\n"
          ]
        }
      ],
      "source": [
        "X = torch.rand(1, 28, 28, device=device)\n",
        "logits = model(X) \n",
        "pred_probab = nn.Softmax(dim=1)(logits)\n",
        "y_pred = pred_probab.argmax(1)\n",
        "print(f\"Predicted class: {y_pred}\")"
      ]
    },
    {
      "attachments": {},
      "cell_type": "markdown",
      "metadata": {},
      "source": [
        "## Weight and Bias\n",
        "\n",
        "\n",
        "The `nn.Linear` module randomly initializes the ${weights}$  and ${ bias}$ for each layer and internally stores the values in Tensors."
      ]
    },
    {
      "cell_type": "code",
      "execution_count": 6,
      "metadata": {},
      "outputs": [
        {
          "name": "stdout",
          "output_type": "stream",
          "text": [
            "First Linear weights: Parameter containing:\n",
            "tensor([[ 0.0021,  0.0103, -0.0307,  ...,  0.0284, -0.0127, -0.0219],\n",
            "        [-0.0174,  0.0271,  0.0015,  ...,  0.0076, -0.0144,  0.0305],\n",
            "        [-0.0030, -0.0046,  0.0278,  ...,  0.0286,  0.0037,  0.0065],\n",
            "        ...,\n",
            "        [ 0.0048,  0.0304,  0.0088,  ...,  0.0316, -0.0247, -0.0332],\n",
            "        [ 0.0281,  0.0031, -0.0107,  ...,  0.0232, -0.0073,  0.0050],\n",
            "        [-0.0051,  0.0104, -0.0072,  ..., -0.0237,  0.0123, -0.0356]],\n",
            "       requires_grad=True) \n",
            "\n",
            "First Linear weights: Parameter containing:\n",
            "tensor([ 0.0236,  0.0139,  0.0129,  0.0003,  0.0103,  0.0050,  0.0146, -0.0132,\n",
            "         0.0016, -0.0085, -0.0200, -0.0221,  0.0346, -0.0174,  0.0005, -0.0263,\n",
            "         0.0091,  0.0342, -0.0236,  0.0301,  0.0105, -0.0030,  0.0227,  0.0329,\n",
            "         0.0070, -0.0155,  0.0286, -0.0113,  0.0159,  0.0095,  0.0304,  0.0321,\n",
            "        -0.0048,  0.0291,  0.0196, -0.0229, -0.0346,  0.0035, -0.0165, -0.0285,\n",
            "        -0.0081, -0.0045,  0.0034, -0.0030,  0.0162, -0.0001,  0.0333,  0.0056,\n",
            "        -0.0023, -0.0107,  0.0272,  0.0291, -0.0075, -0.0143, -0.0120,  0.0015,\n",
            "        -0.0291,  0.0305,  0.0164, -0.0259, -0.0187, -0.0023, -0.0284,  0.0282,\n",
            "         0.0245, -0.0261,  0.0223, -0.0271, -0.0228, -0.0058, -0.0219,  0.0193,\n",
            "         0.0344, -0.0054,  0.0208,  0.0284,  0.0229, -0.0199,  0.0256,  0.0217,\n",
            "         0.0181,  0.0342,  0.0210,  0.0079,  0.0084, -0.0272, -0.0247, -0.0138,\n",
            "        -0.0175, -0.0159, -0.0343,  0.0148, -0.0114,  0.0343, -0.0075,  0.0319,\n",
            "         0.0105,  0.0098, -0.0025, -0.0039, -0.0062, -0.0152, -0.0030, -0.0266,\n",
            "        -0.0115, -0.0140,  0.0263, -0.0351, -0.0063,  0.0217, -0.0063,  0.0325,\n",
            "         0.0200, -0.0134, -0.0014, -0.0036,  0.0169, -0.0222,  0.0173,  0.0127,\n",
            "         0.0348, -0.0001,  0.0336,  0.0016,  0.0346,  0.0170, -0.0242,  0.0112,\n",
            "        -0.0288,  0.0222,  0.0327, -0.0110, -0.0193, -0.0120, -0.0068,  0.0167,\n",
            "         0.0288,  0.0204,  0.0082, -0.0338,  0.0070,  0.0339,  0.0155,  0.0224,\n",
            "        -0.0203, -0.0056,  0.0096,  0.0103,  0.0349, -0.0041,  0.0240,  0.0049,\n",
            "        -0.0350,  0.0009,  0.0244,  0.0180, -0.0153, -0.0280, -0.0274, -0.0108,\n",
            "         0.0195,  0.0122, -0.0290,  0.0236,  0.0049, -0.0268,  0.0014,  0.0273,\n",
            "        -0.0118,  0.0314,  0.0317, -0.0057,  0.0341,  0.0001, -0.0013,  0.0019,\n",
            "        -0.0038,  0.0310, -0.0123, -0.0098, -0.0134,  0.0161,  0.0288, -0.0097,\n",
            "         0.0221,  0.0172, -0.0068,  0.0053, -0.0062, -0.0179,  0.0285, -0.0311,\n",
            "        -0.0021,  0.0209, -0.0071, -0.0300,  0.0304,  0.0247,  0.0256,  0.0186,\n",
            "        -0.0110, -0.0263,  0.0095,  0.0327,  0.0264, -0.0080, -0.0242, -0.0039,\n",
            "         0.0165, -0.0116, -0.0029,  0.0216,  0.0144, -0.0337,  0.0019, -0.0205,\n",
            "        -0.0268,  0.0356, -0.0340,  0.0257, -0.0093,  0.0136, -0.0309,  0.0310,\n",
            "        -0.0183,  0.0149,  0.0284,  0.0065,  0.0004, -0.0214, -0.0238,  0.0018,\n",
            "        -0.0076,  0.0342, -0.0060, -0.0356,  0.0117, -0.0326,  0.0125,  0.0337,\n",
            "         0.0119, -0.0248,  0.0132,  0.0227,  0.0119,  0.0125,  0.0266, -0.0350,\n",
            "         0.0318,  0.0287, -0.0185, -0.0028,  0.0117,  0.0036,  0.0009, -0.0088,\n",
            "        -0.0137, -0.0203, -0.0312,  0.0126,  0.0334, -0.0301, -0.0100,  0.0117,\n",
            "         0.0233, -0.0111,  0.0036, -0.0046,  0.0073,  0.0147, -0.0268, -0.0130,\n",
            "        -0.0261, -0.0050,  0.0228, -0.0282,  0.0008,  0.0137,  0.0155,  0.0191,\n",
            "        -0.0109, -0.0221,  0.0286, -0.0297,  0.0326,  0.0249,  0.0180,  0.0049,\n",
            "        -0.0255, -0.0265,  0.0164,  0.0162,  0.0168,  0.0156, -0.0299,  0.0141,\n",
            "        -0.0169, -0.0054, -0.0019, -0.0072,  0.0327,  0.0077, -0.0049, -0.0100,\n",
            "         0.0063, -0.0313, -0.0279,  0.0256,  0.0133, -0.0291, -0.0325, -0.0300,\n",
            "        -0.0273,  0.0294,  0.0123,  0.0266,  0.0123, -0.0116, -0.0249, -0.0057,\n",
            "        -0.0199, -0.0095, -0.0008,  0.0311, -0.0124, -0.0189, -0.0267,  0.0049,\n",
            "        -0.0235,  0.0185,  0.0206,  0.0046,  0.0200,  0.0092, -0.0107,  0.0327,\n",
            "        -0.0164, -0.0179, -0.0228,  0.0302,  0.0154,  0.0088, -0.0227,  0.0150,\n",
            "         0.0218, -0.0291,  0.0081,  0.0190,  0.0241,  0.0240, -0.0346,  0.0260,\n",
            "         0.0325, -0.0063, -0.0045, -0.0208, -0.0061,  0.0274,  0.0245, -0.0005,\n",
            "        -0.0300, -0.0166, -0.0185, -0.0015,  0.0281,  0.0302,  0.0130,  0.0124,\n",
            "        -0.0086, -0.0054,  0.0281, -0.0202, -0.0097,  0.0013,  0.0230,  0.0169,\n",
            "         0.0202,  0.0268,  0.0012, -0.0257, -0.0252,  0.0217,  0.0317, -0.0195,\n",
            "        -0.0253, -0.0334, -0.0344, -0.0193,  0.0079,  0.0027, -0.0036,  0.0138,\n",
            "         0.0051,  0.0229,  0.0059,  0.0195,  0.0075, -0.0304,  0.0101,  0.0039,\n",
            "        -0.0004, -0.0076,  0.0216,  0.0227,  0.0125, -0.0069,  0.0129,  0.0133,\n",
            "         0.0039, -0.0101,  0.0242, -0.0232,  0.0315, -0.0300,  0.0284, -0.0337,\n",
            "         0.0282, -0.0283,  0.0155, -0.0312, -0.0029,  0.0110,  0.0217,  0.0021,\n",
            "        -0.0148, -0.0210,  0.0239, -0.0212, -0.0278, -0.0219,  0.0140,  0.0220,\n",
            "         0.0062,  0.0223, -0.0317, -0.0336, -0.0175,  0.0036,  0.0201,  0.0040,\n",
            "        -0.0277,  0.0185, -0.0349, -0.0030, -0.0245,  0.0023, -0.0302, -0.0237,\n",
            "         0.0014, -0.0328,  0.0270,  0.0234,  0.0166,  0.0169, -0.0112, -0.0355,\n",
            "         0.0348, -0.0162,  0.0034,  0.0088,  0.0224,  0.0140,  0.0198, -0.0020,\n",
            "        -0.0228,  0.0283,  0.0082,  0.0091,  0.0183,  0.0104,  0.0109, -0.0056,\n",
            "        -0.0322,  0.0213, -0.0190,  0.0117, -0.0197,  0.0213, -0.0058,  0.0072,\n",
            "        -0.0150, -0.0129,  0.0325,  0.0070, -0.0006, -0.0265,  0.0266,  0.0155,\n",
            "         0.0163, -0.0203, -0.0069, -0.0071, -0.0147,  0.0215, -0.0016,  0.0180,\n",
            "        -0.0127,  0.0055, -0.0134, -0.0270, -0.0357,  0.0124,  0.0296, -0.0343,\n",
            "        -0.0120,  0.0168,  0.0302,  0.0223,  0.0306, -0.0131, -0.0106, -0.0244],\n",
            "       requires_grad=True) \n",
            "\n"
          ]
        }
      ],
      "source": [
        "print(f\"First Linear weights: {model.linear_relu_stack[0].weight} \\n\")\n",
        "\n",
        "print(f\"First Linear weights: {model.linear_relu_stack[0].bias} \\n\")"
      ]
    },
    {
      "attachments": {},
      "cell_type": "markdown",
      "metadata": {},
      "source": [
        "## Model layers\n",
        "\n",
        "Let's break down the layers in the FashionMNIST model. To illustrate it, we \n",
        "will take a sample minibatch of 3 images of size **28x28** and see what happens to it as \n",
        "we pass it through the network. "
      ]
    },
    {
      "cell_type": "code",
      "execution_count": 7,
      "metadata": {},
      "outputs": [
        {
          "name": "stdout",
          "output_type": "stream",
          "text": [
            "torch.Size([3, 28, 28])\n"
          ]
        }
      ],
      "source": [
        "input_image = torch.rand(3,28,28)\n",
        "print(input_image.size())"
      ]
    },
    {
      "attachments": {},
      "cell_type": "markdown",
      "metadata": {},
      "source": [
        "### nn.Flatten\n",
        "\n",
        "We initialize the `nn.Flatten` layer to convert each 2D 28x28 image into a contiguous array of 784 pixel values (the minibatch dimension (at dim=0) is maintained). Each of the pixels are pass to the input layer of the neural network.  "
      ]
    },
    {
      "cell_type": "code",
      "execution_count": 8,
      "metadata": {},
      "outputs": [
        {
          "name": "stdout",
          "output_type": "stream",
          "text": [
            "torch.Size([3, 784])\n"
          ]
        }
      ],
      "source": [
        "flatten = nn.Flatten()\n",
        "flat_image = flatten(input_image)\n",
        "print(flat_image.size())"
      ]
    },
    {
      "attachments": {},
      "cell_type": "markdown",
      "metadata": {},
      "source": [
        "### nn.Linear \n",
        "\n",
        "The linear layer is a module that applies a linear transformation on the input using it's stored weights and biases.  The gayscale value of each pixel in the input layer will be connected to neurons in the hidden layer for calculation.    The calculation used for the transformation is ${{weight * input + bias}} $.\n"
      ]
    },
    {
      "cell_type": "code",
      "execution_count": 9,
      "metadata": {},
      "outputs": [
        {
          "name": "stdout",
          "output_type": "stream",
          "text": [
            "torch.Size([3, 20])\n"
          ]
        }
      ],
      "source": [
        "layer1 = nn.Linear(in_features=28*28, out_features=20)\n",
        "hidden1 = layer1(flat_image)\n",
        "print(hidden1.size())"
      ]
    },
    {
      "attachments": {},
      "cell_type": "markdown",
      "metadata": {},
      "source": [
        "### nn.ReLU\n",
        "\n",
        "Non-linear activations are what create the complex mappings between the model's inputs and outputs.\n",
        "They are applied after linear transformations to introduce *nonlinearity*, helping neural networks\n",
        "learn a wide variety of phenomena. In this model, we use `nn.ReLU` between our linear layers, but there's other activations to introduce non-linearity in your model.\n",
        "\n",
        "The ReLU activation function takes the output from the linear layer calculation and replaces the negative values with zeros.\n",
        "\n",
        "Linear output: ${ x = {weight * input + bias}} $.  \n",
        "ReLU:  $f(x)= \n",
        "\\begin{cases}\n",
        "    0, & \\text{if } x < 0\\\\\n",
        "    x, & \\text{if } x\\geq 0\\\\\n",
        "\\end{cases}\n",
        "$"
      ]
    },
    {
      "cell_type": "code",
      "execution_count": 10,
      "metadata": {
        "scrolled": true
      },
      "outputs": [
        {
          "name": "stdout",
          "output_type": "stream",
          "text": [
            "Before ReLU: tensor([[-0.3383,  0.1238,  0.1803, -0.4699, -0.1098, -0.4266, -0.6537, -0.4973,\n",
            "         -0.2934,  0.1824,  0.1701, -0.0857,  0.0543, -0.0515,  0.0202,  0.1684,\n",
            "         -0.1349, -0.1629, -0.0807,  0.7821],\n",
            "        [-0.6032,  0.1057,  0.3251, -0.5953,  0.1703, -0.3085, -0.4218, -0.4345,\n",
            "         -0.4766,  0.1987,  0.1683, -0.0077, -0.0201, -0.1238, -0.0411,  0.0983,\n",
            "          0.0854, -0.1685,  0.0477,  0.3522],\n",
            "        [-0.7728,  0.7013,  0.0519, -0.7015,  0.0810, -0.2348, -0.5170, -0.0984,\n",
            "         -0.2294, -0.4451,  0.1725,  0.4414,  0.5268, -0.1215,  0.2131,  0.2620,\n",
            "          0.0634, -0.4300,  0.0613,  0.7113]], grad_fn=<AddmmBackward0>)\n",
            "\n",
            "\n",
            "After ReLU: tensor([[0.0000, 0.1238, 0.1803, 0.0000, 0.0000, 0.0000, 0.0000, 0.0000, 0.0000,\n",
            "         0.1824, 0.1701, 0.0000, 0.0543, 0.0000, 0.0202, 0.1684, 0.0000, 0.0000,\n",
            "         0.0000, 0.7821],\n",
            "        [0.0000, 0.1057, 0.3251, 0.0000, 0.1703, 0.0000, 0.0000, 0.0000, 0.0000,\n",
            "         0.1987, 0.1683, 0.0000, 0.0000, 0.0000, 0.0000, 0.0983, 0.0854, 0.0000,\n",
            "         0.0477, 0.3522],\n",
            "        [0.0000, 0.7013, 0.0519, 0.0000, 0.0810, 0.0000, 0.0000, 0.0000, 0.0000,\n",
            "         0.0000, 0.1725, 0.4414, 0.5268, 0.0000, 0.2131, 0.2620, 0.0634, 0.0000,\n",
            "         0.0613, 0.7113]], grad_fn=<ReluBackward0>)\n"
          ]
        }
      ],
      "source": [
        "print(f\"Before ReLU: {hidden1}\\n\\n\")\n",
        "hidden1 = nn.ReLU()(hidden1)\n",
        "print(f\"After ReLU: {hidden1}\")"
      ]
    },
    {
      "attachments": {},
      "cell_type": "markdown",
      "metadata": {},
      "source": [
        "### nn.Sequential\n",
        "\n",
        "`nn.Sequential` is an ordered \n",
        "container of modules. The data is passed through all the modules in the same order as defined. You can use\n",
        "sequential containers to put together a quick network like `seq_modules`."
      ]
    },
    {
      "cell_type": "code",
      "execution_count": 11,
      "metadata": {},
      "outputs": [],
      "source": [
        "seq_modules = nn.Sequential(\n",
        "    flatten,\n",
        "    layer1,\n",
        "    nn.ReLU(),\n",
        "    nn.Linear(20, 10)\n",
        ")\n",
        "input_image = torch.rand(3,28,28)\n",
        "logits = seq_modules(input_image)"
      ]
    },
    {
      "attachments": {},
      "cell_type": "markdown",
      "metadata": {},
      "source": [
        "### nn.Softmax\n",
        "\n",
        "The last linear layer of the neural network returns `logits` - raw values in \\[`-infty`, `infty`], which are passed to the\n",
        "`nn.Softmax` module. The Softmax activation function is used to calculate the probability of the output from the neural network.  It is only used on the output layer of a neural network.  The results are scaled to values \\[0, 1\\] representing the model's predicted densities for each class. `dim` parameter indicates the dimension along which the result values must sum to 1.  The node with the highest probability predicts the desired output."
      ]
    },
    {
      "cell_type": "code",
      "execution_count": 12,
      "metadata": {},
      "outputs": [],
      "source": [
        "softmax = nn.Softmax(dim=1)\n",
        "pred_probab = softmax(logits)"
      ]
    },
    {
      "attachments": {},
      "cell_type": "markdown",
      "metadata": {},
      "source": [
        "## Model parameters\n",
        "\n",
        "Many layers inside a neural network are *parameterized*, i.e. have associated weights \n",
        "and biases that are optimized during training. Subclassing `nn.Module` automatically \n",
        "tracks all fields defined inside your model object, and makes all parameters \n",
        "accessible using your model's `parameters()` or `named_parameters()` methods.\n",
        "\n",
        "In this example, we iterate over each parameter, and print its size and a preview of its values.\n"
      ]
    },
    {
      "cell_type": "code",
      "execution_count": 13,
      "metadata": {
        "scrolled": true
      },
      "outputs": [
        {
          "name": "stdout",
          "output_type": "stream",
          "text": [
            "Model structure:  NeuralNetwork(\n",
            "  (flatten): Flatten()\n",
            "  (linear_relu_stack): Sequential(\n",
            "    (0): Linear(in_features=784, out_features=512, bias=True)\n",
            "    (1): ReLU()\n",
            "    (2): Linear(in_features=512, out_features=512, bias=True)\n",
            "    (3): ReLU()\n",
            "    (4): Linear(in_features=512, out_features=10, bias=True)\n",
            "    (5): ReLU()\n",
            "  )\n",
            ") \n",
            "\n",
            "\n",
            "Layer: linear_relu_stack.0.weight | Size: torch.Size([512, 784]) | Values : tensor([[-0.0320,  0.0326, -0.0032,  ..., -0.0236, -0.0025, -0.0175],\n",
            "        [ 0.0180,  0.0271, -0.0314,  ..., -0.0094, -0.0170, -0.0257]],\n",
            "       device='cuda:0', grad_fn=<SliceBackward>) \n",
            "\n",
            "Layer: linear_relu_stack.0.bias | Size: torch.Size([512]) | Values : tensor([-0.0134,  0.0036], device='cuda:0', grad_fn=<SliceBackward>) \n",
            "\n",
            "Layer: linear_relu_stack.2.weight | Size: torch.Size([512, 512]) | Values : tensor([[-0.0262,  0.0072, -0.0348,  ..., -0.0374,  0.0345,  0.0374],\n",
            "        [ 0.0439, -0.0101,  0.0218,  ..., -0.0419,  0.0212, -0.0081]],\n",
            "       device='cuda:0', grad_fn=<SliceBackward>) \n",
            "\n",
            "Layer: linear_relu_stack.2.bias | Size: torch.Size([512]) | Values : tensor([ 0.0131, -0.0289], device='cuda:0', grad_fn=<SliceBackward>) \n",
            "\n",
            "Layer: linear_relu_stack.4.weight | Size: torch.Size([10, 512]) | Values : tensor([[ 0.0376, -0.0359, -0.0329,  ..., -0.0057,  0.0040,  0.0307],\n",
            "        [-0.0196, -0.0440,  0.0250,  ...,  0.0335,  0.0024, -0.0207]],\n",
            "       device='cuda:0', grad_fn=<SliceBackward>) \n",
            "\n",
            "Layer: linear_relu_stack.4.bias | Size: torch.Size([10]) | Values : tensor([-0.0287,  0.0321], device='cuda:0', grad_fn=<SliceBackward>) \n",
            "\n"
          ]
        }
      ],
      "source": [
        "print(\"Model structure: \", model, \"\\n\\n\")\n",
        "\n",
        "for name, param in model.named_parameters():\n",
        "    print(f\"Layer: {name} | Size: {param.size()} | Values : {param[:2]} \\n\")"
      ]
    },
    {
      "attachments": {},
      "cell_type": "markdown",
      "metadata": {},
      "source": [
        "--------------\n",
        "\n",
        "\n"
      ]
    }
  ],
  "metadata": {
    "kernelspec": {
      "display_name": "Python 3",
      "language": "python",
      "name": "python3"
    },
    "language_info": {
      "codemirror_mode": {
        "name": "ipython",
        "version": 3
      },
      "file_extension": ".py",
      "mimetype": "text/x-python",
      "name": "python",
      "nbconvert_exporter": "python",
      "pygments_lexer": "ipython3",
      "version": "3.11.3"
    },
    "nteract": {
      "version": "nteract-front-end@1.0.0"
    }
  },
  "nbformat": 4,
  "nbformat_minor": 1
}
