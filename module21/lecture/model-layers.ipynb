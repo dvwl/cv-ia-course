{
  "cells": [
    {
      "attachments": {},
      "cell_type": "markdown",
      "metadata": {},
      "source": [
        "# What is a neural network\n",
        "\n",
        "Neural network is a collection of neurons that are connected by layers. Each neuron is a small\n",
        "computing unit that performs simple calculations to collectively solve a problem. They are \n",
        "organized in layers. There are 3 types of layers: input layer, hidden layer, and \n",
        "output layer.  Each layer contains a number of neurons, except for the input layer. Neural networks mimic the way a human brain processes information.\n",
        "\n",
        "<img alt=\"Diagram showing different types of layers in a neural network\" src=\"../image/4-model-1.png\" />\n",
        "\n",
        "Image taken from [CS224d Stanford Course](https://cs224d.stanford.edu/index.html)"
      ]
    },
    {
      "attachments": {},
      "cell_type": "markdown",
      "metadata": {},
      "source": [
        "## Components of a neural network\n",
        "\n",
        "- **Activation function** determines whether a neuron should be activated or not. The computations that happen in a neural network include applying an activation function. If a neuron activates, then it means the input is important.  The are different kinds of activation functions. The choice of which activation function to use depends on what you want the output to be. Another important role of an activation function is to add non-linearity to the model.\n",
        "    - _Binary_ used to set an output node to 1 if function result is positive and 0 if the function result is negative. $f(x)= {\\small \\begin{cases} 0, & \\text{if } x < 0\\\\ 1, & \\text{if } x\\geq 0\\\\ \\end{cases}}$\n",
        "    - _Sigmod_ is used to predict the probability of an output node being between 0 and 1.  $f(x) = {\\large \\frac{1}{1+e^{-x}}} $\n",
        "    - _Tanh_ is used to predict if an output node is between 1 and -1.  Used in classification use cases.  $f(x) = {\\large \\frac{e^{x} - e^{-x}}{e^{x} + e^{-x}}} $\n",
        "    - _ReLU_ used to set the output node to 0 if fuction result is negative and keeps the result value if the result is a positive value.  $f(x)= {\\small \\begin{cases} 0, & \\text{if } x < 0\\\\ x, & \\text{if } x\\geq 0\\\\ \\end{cases}}$\n",
        "- **Weights** influence how well the output of our network will come close to the expected output value. As an input enters the neuron, it gets multiplied by a weight value and the resulting output is either observed, or passed to the next layer in the neural network. Weights for all neurons in a layer are organized into one tensor\n",
        "- **Bias** makes up the difference between the activation function's output and its intended output. A low bias suggest that the network is making more assumptions about the form of the output, whereas a high bias value makes less assumptions about the form of the output. \n",
        "\n",
        "<img alt=\"Diagram showing neural computation\" src=\"../image/4-model-2.png\" />\n",
        "\n",
        "Image taken from [CS224d Stanford Course](https://cs224d.stanford.edu/index.html)\n",
        "\n",
        "We can say that an output $y$ of a neural network layer with weights $W$ and bias $b$ is computed as summation of the inputs multiply by the weights plus the bias $x = \\sum{(weights * inputs) + bias} $, where $f(x)$ is the activation function."
      ]
    },
    {
      "attachments": {},
      "cell_type": "markdown",
      "metadata": {},
      "source": [
        "# Build a neural network\n",
        "\n",
        "Neural networks are comprised of layers/modules that perform operations on data. \n",
        "The `torch.nn` namespace provides all the building blocks you need to \n",
        "build your own neural network. Every module in PyTorch subclasses the `nn.Module`. \n",
        "A neural network is a module itself that consists of other modules (layers). This nested structure allows for\n",
        "building and managing complex architectures easily.\n",
        "\n",
        "In the following sections, we'll build a neural network to classify images in the FashionMNIST dataset."
      ]
    },
    {
      "cell_type": "code",
      "execution_count": 1,
      "metadata": {},
      "outputs": [],
      "source": [
        "%matplotlib inline\n",
        "import os\n",
        "import torch\n",
        "from torch import nn\n",
        "from torch.utils.data import DataLoader\n",
        "from torchvision import datasets, transforms"
      ]
    },
    {
      "attachments": {},
      "cell_type": "markdown",
      "metadata": {},
      "source": [
        "## Get a hardware device for training\n",
        "\n",
        "We want to be able to train our model on a hardware accelerator like the GPU, if it is available. Let's check to see if \n",
        "`torch.cuda` is available, else we continue to use the CPU."
      ]
    },
    {
      "cell_type": "code",
      "execution_count": 2,
      "metadata": {},
      "outputs": [
        {
          "name": "stdout",
          "output_type": "stream",
          "text": [
            "Using cuda device\n"
          ]
        }
      ],
      "source": [
        "device = 'cuda' if torch.cuda.is_available() else 'cpu'\n",
        "print('Using {} device'.format(device))"
      ]
    },
    {
      "attachments": {},
      "cell_type": "markdown",
      "metadata": {},
      "source": [
        "## Define the class\n",
        "\n",
        "We define our neural network by subclassing `nn.Module`, and \n",
        "initialize the neural network layers in `__init__`. Every `nn.Module` subclass implements\n",
        "the operations on input data in the `forward` method.\n",
        "\n",
        "Our neural network are composed of the following:\n",
        "- The input layer with 28x28 or 784 features/pixels.\n",
        "- The first linear module takes the input 784 features and transforms it to a hidden layer with 512 features\n",
        "- The ReLU activation function will be applied in the transformation\n",
        "- The second linear module take 512 features as input from the first hidden layer and transforms it to the next hidden layer with 512 features\n",
        "- The ReLU activation function will be applied in the transformation\n",
        "- The third linear module take 512 features as input from the second hidden layer and transforms it to the output layer with 10, which is the number of classes\n",
        "- The ReLU activation function will be applied in the transformation"
      ]
    },
    {
      "cell_type": "code",
      "execution_count": 3,
      "metadata": {},
      "outputs": [],
      "source": [
        "class NeuralNetwork(nn.Module):\n",
        "    def __init__(self):\n",
        "        super(NeuralNetwork, self).__init__()\n",
        "        self.flatten = nn.Flatten()\n",
        "        self.linear_relu_stack = nn.Sequential(\n",
        "            nn.Linear(28*28, 512),\n",
        "            nn.ReLU(),\n",
        "            nn.Linear(512, 512),\n",
        "            nn.ReLU(),\n",
        "            nn.Linear(512, 10),\n",
        "            nn.ReLU()\n",
        "        )\n",
        "\n",
        "    def forward(self, x):\n",
        "        x = self.flatten(x)\n",
        "        logits = self.linear_relu_stack(x)\n",
        "        return logits"
      ]
    },
    {
      "attachments": {},
      "cell_type": "markdown",
      "metadata": {},
      "source": [
        "We create an instance of `NeuralNetwork`, and move it to the `device`, and print \n",
        "it's structure.\n",
        "\n"
      ]
    },
    {
      "cell_type": "code",
      "execution_count": 4,
      "metadata": {},
      "outputs": [
        {
          "name": "stdout",
          "output_type": "stream",
          "text": [
            "NeuralNetwork(\n",
            "  (flatten): Flatten(start_dim=1, end_dim=-1)\n",
            "  (linear_relu_stack): Sequential(\n",
            "    (0): Linear(in_features=784, out_features=512, bias=True)\n",
            "    (1): ReLU()\n",
            "    (2): Linear(in_features=512, out_features=512, bias=True)\n",
            "    (3): ReLU()\n",
            "    (4): Linear(in_features=512, out_features=10, bias=True)\n",
            "    (5): ReLU()\n",
            "  )\n",
            ")\n"
          ]
        }
      ],
      "source": [
        "model = NeuralNetwork().to(device)\n",
        "print(model)"
      ]
    },
    {
      "attachments": {},
      "cell_type": "markdown",
      "metadata": {},
      "source": [
        "To use the model, we pass it the input data. This executes the model's `forward`, along with some background operations. However, do not call `model.forward()` directly! Calling the model on the input returns a 10-dimensional tensor with raw predicted values for each class.\n",
        "\n",
        "We get the prediction densities by passing it through an instance of the `nn.Softmax`."
      ]
    },
    {
      "cell_type": "code",
      "execution_count": 5,
      "metadata": {},
      "outputs": [
        {
          "name": "stdout",
          "output_type": "stream",
          "text": [
            "Predicted class: tensor([8], device='cuda:0')\n"
          ]
        }
      ],
      "source": [
        "X = torch.rand(1, 28, 28, device=device)\n",
        "logits = model(X) \n",
        "pred_probab = nn.Softmax(dim=1)(logits)\n",
        "y_pred = pred_probab.argmax(1)\n",
        "print(f\"Predicted class: {y_pred}\")"
      ]
    },
    {
      "attachments": {},
      "cell_type": "markdown",
      "metadata": {},
      "source": [
        "## Weight and Bias\n",
        "\n",
        "\n",
        "The `nn.Linear` module randomly initializes the ${weights}$  and ${ bias}$ for each layer and internally stores the values in Tensors."
      ]
    },
    {
      "cell_type": "code",
      "execution_count": 6,
      "metadata": {},
      "outputs": [
        {
          "name": "stdout",
          "output_type": "stream",
          "text": [
            "First Linear weights: Parameter containing:\n",
            "tensor([[-0.0311,  0.0223,  0.0279,  ..., -0.0198, -0.0353,  0.0282],\n",
            "        [ 0.0007,  0.0334, -0.0326,  ..., -0.0180, -0.0310, -0.0272],\n",
            "        [-0.0066, -0.0330, -0.0271,  ...,  0.0228, -0.0311, -0.0256],\n",
            "        ...,\n",
            "        [ 0.0236,  0.0067,  0.0078,  ..., -0.0192, -0.0111,  0.0230],\n",
            "        [-0.0350, -0.0111,  0.0303,  ..., -0.0215,  0.0356,  0.0296],\n",
            "        [ 0.0014,  0.0339, -0.0243,  ...,  0.0323, -0.0338, -0.0283]],\n",
            "       device='cuda:0', requires_grad=True) \n",
            "\n",
            "First Linear weights: Parameter containing:\n",
            "tensor([ 2.2736e-02,  1.3265e-02,  2.7052e-02, -2.9170e-02, -2.7098e-02,\n",
            "         3.2743e-02,  3.4489e-02,  3.3818e-02, -7.0542e-05, -1.9681e-03,\n",
            "        -2.4484e-02,  1.2227e-02,  1.5376e-02,  5.8372e-03, -1.7678e-02,\n",
            "         9.5456e-03, -1.8129e-02,  2.4837e-02,  3.1888e-02, -1.8040e-02,\n",
            "        -2.8643e-02,  3.0777e-02, -3.4809e-02,  9.8273e-03,  3.5196e-02,\n",
            "        -1.6185e-02, -1.2299e-02,  2.3530e-02,  1.5587e-02, -9.4222e-03,\n",
            "         2.7950e-02, -2.6183e-02, -1.3365e-02,  2.6774e-02, -1.8053e-02,\n",
            "         1.6033e-02,  2.9957e-02, -2.4208e-02, -1.9655e-02,  1.3729e-02,\n",
            "        -3.4089e-02, -3.0145e-02, -2.4618e-02,  2.5082e-02,  2.3334e-03,\n",
            "        -3.4036e-02,  2.1731e-02,  3.4919e-02, -1.8892e-02, -2.5133e-02,\n",
            "        -5.8282e-03, -2.0147e-02,  2.5602e-02, -1.6875e-02,  2.9260e-02,\n",
            "        -2.3544e-02, -6.3467e-03, -2.0376e-02,  1.6990e-02,  1.0654e-02,\n",
            "        -1.8509e-02,  3.0992e-02, -1.8782e-02,  2.0746e-03,  1.0670e-02,\n",
            "         2.3925e-02,  3.9484e-03, -3.4798e-02,  1.6972e-02, -4.8431e-03,\n",
            "        -3.1671e-02,  1.9419e-02, -1.1437e-02,  2.4149e-03, -1.1995e-02,\n",
            "         2.7385e-02, -1.5218e-02, -3.0885e-02, -1.9373e-02, -1.2877e-02,\n",
            "         6.2857e-03, -2.1655e-02,  2.4808e-02,  1.9686e-02, -1.9777e-03,\n",
            "         2.5115e-03, -7.2810e-03, -2.5498e-02,  1.3602e-02, -7.6405e-03,\n",
            "        -3.2032e-02,  9.9549e-03,  3.3352e-02,  2.2294e-02, -1.8318e-02,\n",
            "         2.9014e-02,  3.1908e-02,  1.8635e-02, -3.3694e-02,  1.7859e-02,\n",
            "        -7.2650e-04, -2.9004e-02, -2.8309e-02,  3.3248e-02, -2.4929e-02,\n",
            "        -7.9816e-03,  3.1537e-02,  1.1106e-02, -3.3200e-02, -9.4730e-03,\n",
            "         3.5392e-02,  2.1068e-02, -1.7105e-02, -2.4228e-02, -2.5009e-02,\n",
            "         2.7086e-02, -2.8483e-02, -3.0845e-02, -1.6078e-02, -2.8677e-02,\n",
            "        -3.4346e-02, -2.9142e-02, -3.1532e-02, -5.9238e-03, -3.0539e-03,\n",
            "         1.5888e-02, -3.0444e-02,  3.1861e-02, -2.0467e-02, -8.0696e-03,\n",
            "        -3.3706e-02,  1.4111e-02,  9.3926e-03,  7.1829e-03,  7.7252e-03,\n",
            "        -5.1614e-03, -1.9754e-02, -1.9804e-03,  2.3792e-02,  1.3589e-02,\n",
            "        -1.9989e-02, -4.6242e-04, -9.3306e-03, -1.2903e-02,  2.4096e-02,\n",
            "        -1.8603e-02,  2.3277e-02,  1.0422e-02, -2.4387e-04,  1.7278e-02,\n",
            "         2.5032e-02, -1.9437e-02, -2.3015e-02, -1.5185e-02, -1.2952e-03,\n",
            "         1.8372e-02, -8.1130e-03, -2.5559e-02, -5.3059e-03,  1.9627e-02,\n",
            "        -2.5857e-03, -2.6068e-02, -2.3417e-02,  7.6765e-03,  3.1996e-02,\n",
            "         2.6880e-02, -1.1203e-02,  1.2072e-02,  1.5245e-02, -1.3115e-02,\n",
            "        -2.6492e-02, -4.9917e-03,  1.7987e-02, -1.1242e-03,  1.5003e-03,\n",
            "         3.2824e-02, -2.8650e-02,  2.5543e-02,  6.7780e-03, -3.0453e-02,\n",
            "        -2.4436e-02, -2.3543e-02,  5.9480e-03,  2.0457e-02,  1.0757e-02,\n",
            "         3.5280e-02,  1.7071e-03, -2.0031e-02, -3.0480e-02,  1.2507e-02,\n",
            "        -1.1961e-02, -3.3020e-02, -1.8045e-03,  3.3790e-02, -5.8531e-03,\n",
            "         3.5636e-03,  1.1164e-02,  3.3502e-02, -1.3473e-02, -1.3474e-02,\n",
            "        -2.9523e-02,  2.9605e-02, -2.4562e-04,  2.5981e-02,  4.3348e-03,\n",
            "         1.4222e-02,  1.0520e-02,  3.2957e-02,  3.2351e-02, -1.2352e-02,\n",
            "        -3.5456e-02,  8.8890e-03,  1.7980e-03, -1.6410e-02, -2.6931e-02,\n",
            "        -9.5288e-03, -2.7815e-02, -3.4601e-02,  7.3916e-03, -2.7518e-02,\n",
            "        -2.1263e-03,  2.7115e-02, -1.1278e-02, -1.0266e-02,  2.7758e-02,\n",
            "         2.8560e-02, -4.1004e-03, -1.0107e-03, -2.5882e-02, -1.8968e-02,\n",
            "        -2.9937e-02,  2.7642e-03,  4.2034e-03,  4.7206e-03,  1.3391e-02,\n",
            "        -2.8963e-02, -1.3798e-02, -3.1939e-02, -2.9617e-02, -3.5289e-02,\n",
            "        -5.3505e-03,  1.8084e-03,  3.0371e-02,  3.3908e-02, -1.2275e-02,\n",
            "        -8.0115e-03, -1.4305e-02, -2.7457e-02, -3.0583e-03,  2.4755e-02,\n",
            "         2.7311e-02,  3.2122e-03,  1.7086e-02,  3.0904e-02,  8.5289e-03,\n",
            "        -6.9560e-03, -1.3089e-02,  2.4047e-02, -1.6519e-02, -2.9747e-02,\n",
            "        -2.4397e-02,  2.7256e-02,  5.2265e-03,  1.7539e-03, -6.6139e-03,\n",
            "         3.3179e-02,  7.3430e-03,  3.5678e-02, -7.0069e-03,  1.4001e-02,\n",
            "        -2.9649e-02,  1.2755e-02, -3.5277e-02,  1.3334e-02,  2.0181e-02,\n",
            "        -8.7597e-03, -2.8454e-02,  1.2425e-02,  7.0797e-03, -2.4172e-02,\n",
            "         1.6573e-02,  1.6785e-02,  1.5592e-02, -2.0045e-02,  1.9626e-02,\n",
            "        -3.3000e-02,  1.1702e-02, -1.6733e-02,  8.0620e-03, -2.2400e-02,\n",
            "        -1.6075e-02,  1.2574e-03,  2.8714e-02, -1.9597e-02,  1.1197e-02,\n",
            "        -7.9483e-03,  1.0043e-02,  1.6995e-02,  3.0099e-02, -2.2750e-02,\n",
            "         3.7823e-03, -7.9526e-03, -2.1730e-02,  3.4046e-02,  1.7338e-02,\n",
            "         2.4688e-02, -2.4260e-03, -9.7797e-03, -4.0784e-03, -7.2125e-03,\n",
            "         5.1047e-03, -2.6021e-02, -1.3565e-02, -1.5578e-02, -1.5286e-02,\n",
            "        -1.8358e-02, -1.8219e-02,  1.5587e-02, -1.0345e-02,  1.0835e-02,\n",
            "        -5.5777e-03, -3.1307e-02, -3.0204e-02,  1.1522e-02,  1.0402e-02,\n",
            "        -2.8200e-02, -2.5059e-02,  3.1055e-02, -5.1466e-03,  1.8028e-02,\n",
            "        -1.4505e-02,  3.3880e-02, -2.0343e-02,  9.5313e-03,  2.1817e-03,\n",
            "        -9.7858e-03,  1.9904e-02, -2.8313e-02,  2.1804e-02,  2.3894e-02,\n",
            "         2.2036e-02, -2.8543e-02, -3.4783e-02, -4.0300e-03,  5.2644e-03,\n",
            "        -7.3170e-03, -3.0368e-02,  9.3013e-03, -2.0744e-02, -7.7118e-03,\n",
            "        -3.5207e-02,  1.8374e-02, -1.8029e-03,  5.3631e-03,  1.2585e-02,\n",
            "        -2.4956e-02,  2.4287e-02, -1.6022e-02,  7.4273e-03, -2.9958e-02,\n",
            "        -5.6854e-04,  4.6354e-03,  1.2683e-02,  2.8045e-02,  1.2656e-02,\n",
            "        -6.2575e-03, -3.4295e-02, -3.4179e-02, -2.7593e-03,  2.6073e-03,\n",
            "         2.6259e-02,  1.9216e-02, -2.2999e-02,  1.2483e-03, -9.4251e-03,\n",
            "        -2.2813e-02,  1.9504e-02, -1.9475e-02, -2.9469e-02,  1.8069e-02,\n",
            "        -2.5945e-02,  1.6527e-02,  1.2901e-02,  7.9002e-03,  7.4919e-03,\n",
            "        -3.1000e-02, -8.5383e-03, -6.6471e-03,  3.3788e-02, -2.3000e-02,\n",
            "        -2.4416e-02,  7.3284e-03,  1.6517e-02, -1.2277e-02,  2.3938e-02,\n",
            "        -1.4549e-02,  2.7354e-02, -3.3863e-02,  1.1956e-02, -2.3159e-03,\n",
            "        -8.2720e-03,  7.1728e-03,  1.9004e-03, -2.2870e-04, -1.7256e-02,\n",
            "         1.4178e-02,  1.5464e-02, -2.6819e-02,  2.5573e-02, -2.4835e-04,\n",
            "         1.4615e-02, -8.9826e-03,  1.9609e-02, -3.5225e-02, -1.1776e-02,\n",
            "         2.2271e-02, -7.9270e-03,  2.7946e-02,  3.2843e-02, -3.1556e-02,\n",
            "         2.2231e-02, -1.4316e-02, -1.0571e-02, -1.4330e-02, -1.8825e-02,\n",
            "        -2.1069e-02, -1.3615e-02, -2.6515e-02, -5.9720e-03, -2.6141e-02,\n",
            "        -1.3329e-02,  2.6376e-02,  1.4118e-03, -3.3481e-02, -3.3246e-02,\n",
            "         3.4978e-02, -2.1072e-02,  1.6253e-02,  1.6239e-02,  1.6881e-02,\n",
            "        -8.6304e-03,  8.6759e-03, -3.0351e-02, -3.0973e-02,  2.7436e-02,\n",
            "        -2.6252e-02,  2.9572e-02,  5.7998e-03, -3.4203e-02,  1.7211e-02,\n",
            "        -3.5635e-02, -3.4914e-02, -1.0414e-02, -1.9559e-02,  9.5659e-03,\n",
            "         5.3086e-03,  1.6477e-02,  1.2626e-02, -1.9433e-02, -1.7244e-02,\n",
            "         2.0895e-02, -2.8336e-02, -2.3890e-02, -2.2973e-02, -1.8160e-02,\n",
            "         2.9327e-02,  2.6104e-02,  1.2977e-03,  2.6770e-02,  1.9660e-02,\n",
            "         2.3242e-02, -1.6730e-02,  2.0595e-02, -1.7961e-02, -1.6973e-02,\n",
            "        -2.8694e-02, -3.5214e-02,  3.0695e-02,  3.3482e-02,  2.0469e-02,\n",
            "         2.2187e-02,  6.5626e-03,  2.2880e-02,  3.0572e-02, -2.9896e-02,\n",
            "        -1.3787e-03, -1.9664e-02, -1.4310e-02, -1.9066e-02, -1.6665e-02,\n",
            "         1.5617e-02,  1.7590e-02, -9.6018e-03, -1.7028e-02, -5.9612e-03,\n",
            "         2.1034e-02,  2.2048e-02,  2.6402e-02, -2.4584e-02, -3.6106e-03,\n",
            "         2.4479e-02, -8.7069e-03, -9.8112e-03,  1.3262e-02,  2.5933e-02,\n",
            "         7.5743e-03,  3.2510e-02, -2.9318e-02,  1.0708e-02,  1.4309e-02,\n",
            "        -2.1158e-02, -3.2579e-02], device='cuda:0', requires_grad=True) \n",
            "\n"
          ]
        }
      ],
      "source": [
        "print(f\"First Linear weights: {model.linear_relu_stack[0].weight} \\n\")\n",
        "\n",
        "print(f\"First Linear weights: {model.linear_relu_stack[0].bias} \\n\")"
      ]
    },
    {
      "attachments": {},
      "cell_type": "markdown",
      "metadata": {},
      "source": [
        "## Model layers\n",
        "\n",
        "Let's break down the layers in the FashionMNIST model. To illustrate it, we \n",
        "will take a sample minibatch of 3 images of size **28x28** and see what happens to it as \n",
        "we pass it through the network. "
      ]
    },
    {
      "cell_type": "code",
      "execution_count": 7,
      "metadata": {},
      "outputs": [
        {
          "name": "stdout",
          "output_type": "stream",
          "text": [
            "torch.Size([3, 28, 28])\n"
          ]
        }
      ],
      "source": [
        "input_image = torch.rand(3,28,28)\n",
        "print(input_image.size())"
      ]
    },
    {
      "attachments": {},
      "cell_type": "markdown",
      "metadata": {},
      "source": [
        "### nn.Flatten\n",
        "\n",
        "We initialize the `nn.Flatten` layer to convert each 2D 28x28 image into a contiguous array of 784 pixel values (the minibatch dimension (at dim=0) is maintained). Each of the pixels are pass to the input layer of the neural network.  "
      ]
    },
    {
      "cell_type": "code",
      "execution_count": 8,
      "metadata": {},
      "outputs": [
        {
          "name": "stdout",
          "output_type": "stream",
          "text": [
            "torch.Size([3, 784])\n"
          ]
        }
      ],
      "source": [
        "flatten = nn.Flatten()\n",
        "flat_image = flatten(input_image)\n",
        "print(flat_image.size())"
      ]
    },
    {
      "attachments": {},
      "cell_type": "markdown",
      "metadata": {},
      "source": [
        "### nn.Linear \n",
        "\n",
        "The linear layer is a module that applies a linear transformation on the input using it's stored weights and biases.  The grayscale value of each pixel in the input layer will be connected to neurons in the hidden layer for calculation.    The calculation used for the transformation is ${{weight * input + bias}} $.\n"
      ]
    },
    {
      "cell_type": "code",
      "execution_count": 9,
      "metadata": {},
      "outputs": [
        {
          "name": "stdout",
          "output_type": "stream",
          "text": [
            "torch.Size([3, 20])\n"
          ]
        }
      ],
      "source": [
        "layer1 = nn.Linear(in_features=28*28, out_features=20)\n",
        "hidden1 = layer1(flat_image)\n",
        "print(hidden1.size())"
      ]
    },
    {
      "attachments": {},
      "cell_type": "markdown",
      "metadata": {},
      "source": [
        "### nn.ReLU\n",
        "\n",
        "Non-linear activations are what create the complex mappings between the model's inputs and outputs.\n",
        "They are applied after linear transformations to introduce *nonlinearity*, helping neural networks\n",
        "learn a wide variety of phenomena. In this model, we use `nn.ReLU` between our linear layers, but there's other activations to introduce non-linearity in your model.\n",
        "\n",
        "The ReLU activation function takes the output from the linear layer calculation and replaces the negative values with zeros.\n",
        "\n",
        "Linear output: ${ x = {weight * input + bias}} $.  \n",
        "ReLU:  $f(x)= \n",
        "\\begin{cases}\n",
        "    0, & \\text{if } x < 0\\\\\n",
        "    x, & \\text{if } x\\geq 0\\\\\n",
        "\\end{cases}\n",
        "$"
      ]
    },
    {
      "cell_type": "code",
      "execution_count": 10,
      "metadata": {
        "scrolled": true
      },
      "outputs": [
        {
          "name": "stdout",
          "output_type": "stream",
          "text": [
            "Before ReLU: tensor([[-0.2410,  0.3521, -0.0375, -0.1654, -0.0146,  0.2397, -0.2310, -0.2978,\n",
            "         -0.0036, -0.4286,  0.0995,  0.0762, -0.1101,  0.4176, -0.4153, -0.5082,\n",
            "          0.0302,  0.6277,  0.6104, -0.2060],\n",
            "        [-0.0485,  0.0151,  0.1171, -0.4258, -0.0970,  0.0344,  0.2223, -0.3923,\n",
            "         -0.1824, -0.4066,  0.2812, -0.0336, -0.2489,  0.3560, -0.5314, -0.4802,\n",
            "         -0.1950,  0.3271,  0.4786,  0.2142],\n",
            "        [-0.2429,  0.4173, -0.0237, -0.1191,  0.0281,  0.3678, -0.2437, -0.3189,\n",
            "         -0.5032, -0.7137, -0.0768,  0.1381,  0.1095,  0.4170, -0.5568, -0.5311,\n",
            "          0.2372,  0.6067,  0.5488,  0.0244]], grad_fn=<AddmmBackward0>)\n",
            "\n",
            "\n",
            "After ReLU: tensor([[0.0000, 0.3521, 0.0000, 0.0000, 0.0000, 0.2397, 0.0000, 0.0000, 0.0000,\n",
            "         0.0000, 0.0995, 0.0762, 0.0000, 0.4176, 0.0000, 0.0000, 0.0302, 0.6277,\n",
            "         0.6104, 0.0000],\n",
            "        [0.0000, 0.0151, 0.1171, 0.0000, 0.0000, 0.0344, 0.2223, 0.0000, 0.0000,\n",
            "         0.0000, 0.2812, 0.0000, 0.0000, 0.3560, 0.0000, 0.0000, 0.0000, 0.3271,\n",
            "         0.4786, 0.2142],\n",
            "        [0.0000, 0.4173, 0.0000, 0.0000, 0.0281, 0.3678, 0.0000, 0.0000, 0.0000,\n",
            "         0.0000, 0.0000, 0.1381, 0.1095, 0.4170, 0.0000, 0.0000, 0.2372, 0.6067,\n",
            "         0.5488, 0.0244]], grad_fn=<ReluBackward0>)\n"
          ]
        }
      ],
      "source": [
        "print(f\"Before ReLU: {hidden1}\\n\\n\")\n",
        "hidden1 = nn.ReLU()(hidden1)\n",
        "print(f\"After ReLU: {hidden1}\")"
      ]
    },
    {
      "attachments": {},
      "cell_type": "markdown",
      "metadata": {},
      "source": [
        "### nn.Sequential\n",
        "\n",
        "`nn.Sequential` is an ordered \n",
        "container of modules. The data is passed through all the modules in the same order as defined. You can use\n",
        "sequential containers to put together a quick network like `seq_modules`."
      ]
    },
    {
      "cell_type": "code",
      "execution_count": 11,
      "metadata": {},
      "outputs": [],
      "source": [
        "seq_modules = nn.Sequential(\n",
        "    flatten,\n",
        "    layer1,\n",
        "    nn.ReLU(),\n",
        "    nn.Linear(20, 10)\n",
        ")\n",
        "input_image = torch.rand(3,28,28)\n",
        "logits = seq_modules(input_image)"
      ]
    },
    {
      "attachments": {},
      "cell_type": "markdown",
      "metadata": {},
      "source": [
        "### nn.Softmax\n",
        "\n",
        "The last linear layer of the neural network returns `logits` - raw values in \\[`-infty`, `infty`], which are passed to the\n",
        "`nn.Softmax` module. The Softmax activation function is used to calculate the probability of the output from the neural network.  It is only used on the output layer of a neural network.  The results are scaled to values \\[0, 1\\] representing the model's predicted densities for each class. `dim` parameter indicates the dimension along which the result values must sum to 1.  The node with the highest probability predicts the desired output."
      ]
    },
    {
      "cell_type": "code",
      "execution_count": 12,
      "metadata": {},
      "outputs": [],
      "source": [
        "softmax = nn.Softmax(dim=1)\n",
        "pred_probab = softmax(logits)"
      ]
    },
    {
      "attachments": {},
      "cell_type": "markdown",
      "metadata": {},
      "source": [
        "## Model parameters\n",
        "\n",
        "Many layers inside a neural network are *parameterized*, i.e. have associated weights \n",
        "and biases that are optimized during training. Subclassing `nn.Module` automatically \n",
        "tracks all fields defined inside your model object, and makes all parameters \n",
        "accessible using your model's `parameters()` or `named_parameters()` methods.\n",
        "\n",
        "In this example, we iterate over each parameter, and print its size and a preview of its values.\n"
      ]
    },
    {
      "cell_type": "code",
      "execution_count": 13,
      "metadata": {
        "scrolled": true
      },
      "outputs": [
        {
          "name": "stdout",
          "output_type": "stream",
          "text": [
            "Model structure:  NeuralNetwork(\n",
            "  (flatten): Flatten()\n",
            "  (linear_relu_stack): Sequential(\n",
            "    (0): Linear(in_features=784, out_features=512, bias=True)\n",
            "    (1): ReLU()\n",
            "    (2): Linear(in_features=512, out_features=512, bias=True)\n",
            "    (3): ReLU()\n",
            "    (4): Linear(in_features=512, out_features=10, bias=True)\n",
            "    (5): ReLU()\n",
            "  )\n",
            ") \n",
            "\n",
            "\n",
            "Layer: linear_relu_stack.0.weight | Size: torch.Size([512, 784]) | Values : tensor([[-0.0320,  0.0326, -0.0032,  ..., -0.0236, -0.0025, -0.0175],\n",
            "        [ 0.0180,  0.0271, -0.0314,  ..., -0.0094, -0.0170, -0.0257]],\n",
            "       device='cuda:0', grad_fn=<SliceBackward>) \n",
            "\n",
            "Layer: linear_relu_stack.0.bias | Size: torch.Size([512]) | Values : tensor([-0.0134,  0.0036], device='cuda:0', grad_fn=<SliceBackward>) \n",
            "\n",
            "Layer: linear_relu_stack.2.weight | Size: torch.Size([512, 512]) | Values : tensor([[-0.0262,  0.0072, -0.0348,  ..., -0.0374,  0.0345,  0.0374],\n",
            "        [ 0.0439, -0.0101,  0.0218,  ..., -0.0419,  0.0212, -0.0081]],\n",
            "       device='cuda:0', grad_fn=<SliceBackward>) \n",
            "\n",
            "Layer: linear_relu_stack.2.bias | Size: torch.Size([512]) | Values : tensor([ 0.0131, -0.0289], device='cuda:0', grad_fn=<SliceBackward>) \n",
            "\n",
            "Layer: linear_relu_stack.4.weight | Size: torch.Size([10, 512]) | Values : tensor([[ 0.0376, -0.0359, -0.0329,  ..., -0.0057,  0.0040,  0.0307],\n",
            "        [-0.0196, -0.0440,  0.0250,  ...,  0.0335,  0.0024, -0.0207]],\n",
            "       device='cuda:0', grad_fn=<SliceBackward>) \n",
            "\n",
            "Layer: linear_relu_stack.4.bias | Size: torch.Size([10]) | Values : tensor([-0.0287,  0.0321], device='cuda:0', grad_fn=<SliceBackward>) \n",
            "\n"
          ]
        }
      ],
      "source": [
        "print(\"Model structure: \", model, \"\\n\\n\")\n",
        "\n",
        "for name, param in model.named_parameters():\n",
        "    print(f\"Layer: {name} | Size: {param.size()} | Values : {param[:2]} \\n\")"
      ]
    },
    {
      "attachments": {},
      "cell_type": "markdown",
      "metadata": {},
      "source": [
        "--------------\n",
        "\n",
        "\n"
      ]
    }
  ],
  "metadata": {
    "kernelspec": {
      "display_name": "Python 3",
      "language": "python",
      "name": "python3"
    },
    "language_info": {
      "codemirror_mode": {
        "name": "ipython",
        "version": 3
      },
      "file_extension": ".py",
      "mimetype": "text/x-python",
      "name": "python",
      "nbconvert_exporter": "python",
      "pygments_lexer": "ipython3",
      "version": "3.11.3"
    },
    "nteract": {
      "version": "nteract-front-end@1.0.0"
    }
  },
  "nbformat": 4,
  "nbformat_minor": 1
}
